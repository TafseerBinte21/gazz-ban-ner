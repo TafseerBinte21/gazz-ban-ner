{
 "cells": [
  {
   "cell_type": "code",
   "execution_count": 6,
   "metadata": {},
   "outputs": [],
   "source": [
    "from tqdm import tqdm\n",
    "import numpy as np"
   ]
  },
  {
   "cell_type": "code",
   "execution_count": 1,
   "metadata": {},
   "outputs": [
    {
     "name": "stderr",
     "output_type": "stream",
     "text": [
      "c:\\Users\\User\\anaconda3\\envs\\gputorch\\lib\\site-packages\\tqdm\\auto.py:21: TqdmWarning: IProgress not found. Please update jupyter and ipywidgets. See https://ipywidgets.readthedocs.io/en/stable/user_install.html\n",
      "  from .autonotebook import tqdm as notebook_tqdm\n"
     ]
    }
   ],
   "source": [
    "# BanglaBert Feature Extraction\n",
    "\n",
    "import torch\n",
    "from transformers import ElectraTokenizer, ElectraForTokenClassification, AutoConfig\n",
    "# device = torch.device(\"cuda\" if torch.cuda.is_available() else \"cpu\")\n",
    "\n",
    "cache_dir = \"cache\"\n",
    "model_name_or_path = \"checkpoint-7500\"\n",
    "config = AutoConfig.from_pretrained(\n",
    "    model_name_or_path,\n",
    "    cache_dir=cache_dir,\n",
    "    output_hidden_states = True\n",
    ")   \n",
    "\n",
    "tokenizer = ElectraTokenizer.from_pretrained(\n",
    "    model_name_or_path,\n",
    ")\n",
    "\n",
    "model = ElectraForTokenClassification.from_pretrained(\n",
    "    model_name_or_path,\n",
    "    config=config,\n",
    "    cache_dir=cache_dir,\n",
    ")"
   ]
  },
  {
   "cell_type": "code",
   "execution_count": 4,
   "metadata": {},
   "outputs": [
    {
     "name": "stderr",
     "output_type": "stream",
     "text": [
      "11131it [00:00, 1171563.31it/s]\n",
      "826917it [00:00, 1671936.97it/s]\n",
      "207127it [00:00, 1517150.24it/s]\n"
     ]
    }
   ],
   "source": [
    "def extract_sentences_from_file(file_name):\n",
    "    sentences = []\n",
    "    current_sentence = \"\"\n",
    "\n",
    "    with open(file_name, \"r\", encoding=\"utf-8\") as file:\n",
    "        for line in tqdm(file):\n",
    "            line = line.strip()\n",
    "            if line:\n",
    "                if current_sentence:\n",
    "                    current_sentence += \" \"\n",
    "                current_sentence += line.split()[0]\n",
    "            else:\n",
    "                if current_sentence:\n",
    "                    sentences.append(current_sentence)\n",
    "                    current_sentence = \"\"\n",
    "\n",
    "    if current_sentence:\n",
    "        sentences.append(current_sentence)\n",
    "\n",
    "    return sentences\n",
    "\n",
    "\n",
    "# Example usage\n",
    "dev_lines = extract_sentences_from_file('dev.txt')\n",
    "test_lines = extract_sentences_from_file('test.txt')\n",
    "train_lines = extract_sentences_from_file('train.txt')"
   ]
  },
  {
   "cell_type": "code",
   "execution_count": 7,
   "metadata": {},
   "outputs": [],
   "source": [
    "def concat_hidden_states(text):\n",
    "    text = tokenizer(text)\n",
    "    input_ids = torch.tensor(text['input_ids']).unsqueeze(0)  # Convert to tensor and add batch dimension\n",
    "    words = tokenizer.convert_ids_to_tokens(input_ids[0])\n",
    "    # print(words)\n",
    "    attention_mask = torch.tensor(text['attention_mask']).unsqueeze(0)  # Convert to tensor and add batch dimension\n",
    "\n",
    "    outputs = model(input_ids=input_ids, attention_mask=attention_mask)\n",
    "    hidden_states = outputs.hidden_states\n",
    "\n",
    "    # layer1 = hidden_states[0]\n",
    "    # layer2 = hidden_states[1]\n",
    "    # layer3 = hidden_states[2]\n",
    "    # layer4 = hidden_states[3]\n",
    "    # layer5 = hidden_states[4]\n",
    "    # layer6 = hidden_states[5]\n",
    "    # layer7 = hidden_states[6]\n",
    "    # layer8 = hidden_states[7]\n",
    "    # layer9 = hidden_states[8]\n",
    "    # layer10 = hidden_states[9]\n",
    "    # layer11 = hidden_states[10]\n",
    "    # layer12 = hidden_states[11]\n",
    "    # layer13 = hidden_states[12]\n",
    "    # layer14 = hidden_states[13]\n",
    "    # layer15 = hidden_states[14]\n",
    "    # layer16 = hidden_states[15]\n",
    "    # layer17 = hidden_states[16]\n",
    "    # layer18 = hidden_states[17]\n",
    "    # layer19 = hidden_states[18]\n",
    "    # layer20 = hidden_states[19]\n",
    "    # layer21 = hidden_states[20]\n",
    "    # layer22 = hidden_states[21]\n",
    "    # layer23 = hidden_states[22]\n",
    "    layer24 = hidden_states[23]\n",
    "\n",
    "    # hidden = [layer1, layer2, layer3, layer4, layer5, \n",
    "    #           layer6, layer7, layer8, layer9, layer10, \n",
    "    #           layer11, layer12, layer13, layer14, layer15, \n",
    "    #           layer16, layer17, layer18, layer19, layer20, \n",
    "    #           layer21, layer22, layer23, layer24]\n",
    "\n",
    "    hidden = [layer24]\n",
    "    \n",
    "    concatenated_tensor = torch.cat(hidden, dim=2)\n",
    "\n",
    "    # averaged_hidden_states = torch.mean(torch.stack(hidden), dim=0)\n",
    "    concatenated_tensor = concatenated_tensor.detach().numpy()\n",
    "    \n",
    "    new_concatenated_tensor = []\n",
    "\n",
    "    count = 0\n",
    "    for i in concatenated_tensor[0]:\n",
    "        if (words[count].startswith('#') or words[count] in ['[CLS]','[SEP]'])  == False:\n",
    "            new_concatenated_tensor.append(i)\n",
    "        count+=1\n",
    "        \n",
    "    return np.asarray(new_concatenated_tensor)"
   ]
  },
  {
   "cell_type": "code",
   "execution_count": 23,
   "metadata": {},
   "outputs": [],
   "source": [
    "ss = concat_hidden_states('সমস্ত বেতন নিলামের সাধারণ ব্যবহারিক উদাহরণ বিভিন্ন পেনি নিলাম / বিডিং ফি নিলাম ওয়েবসাইটে পাওয়া যাবে।')"
   ]
  },
  {
   "cell_type": "code",
   "execution_count": 24,
   "metadata": {},
   "outputs": [
    {
     "data": {
      "text/plain": [
       "array([[-0.58154154,  0.6531722 , -1.1140741 , ..., -0.00872078,\n",
       "        -0.22480261, -0.1402453 ],\n",
       "       [-0.46665108,  0.7439235 , -1.3360343 , ...,  0.01900467,\n",
       "         0.07851079, -0.12635817],\n",
       "       [-0.54372823,  0.57310385, -1.187688  , ...,  0.02851821,\n",
       "         0.12637195, -0.15423541],\n",
       "       ...,\n",
       "       [-0.54957277,  0.4999115 , -1.1502099 , ...,  0.00285783,\n",
       "         0.12933405, -0.14344274],\n",
       "       [-0.52617085,  0.53122383, -0.902822  , ...,  0.04445428,\n",
       "         0.03610161, -0.22419369],\n",
       "       [-0.27066225,  0.47984028, -0.91990006, ...,  0.1047343 ,\n",
       "         0.02818093, -0.02490915]], dtype=float32)"
      ]
     },
     "execution_count": 24,
     "metadata": {},
     "output_type": "execute_result"
    }
   ],
   "source": [
    "ss"
   ]
  },
  {
   "cell_type": "code",
   "execution_count": 26,
   "metadata": {},
   "outputs": [
    {
     "name": "stderr",
     "output_type": "stream",
     "text": [
      "100%|██████████| 15300/15300 [38:53<00:00,  6.56it/s]\n"
     ]
    }
   ],
   "source": [
    "huge_array = []\n",
    "\n",
    "for i in tqdm(train_lines):\n",
    "    w = concat_hidden_states(i)\n",
    "    for word in w:\n",
    "        huge_array.append(word)"
   ]
  },
  {
   "cell_type": "code",
   "execution_count": 37,
   "metadata": {},
   "outputs": [
    {
     "data": {
      "text/plain": [
       "216921"
      ]
     },
     "execution_count": 37,
     "metadata": {},
     "output_type": "execute_result"
    }
   ],
   "source": [
    "len(huge_array)"
   ]
  },
  {
   "cell_type": "code",
   "execution_count": 35,
   "metadata": {},
   "outputs": [],
   "source": [
    "with open('huge_array_train.pickle', 'wb') as handle:\n",
    "    pickle.dump(huge_array, handle, protocol=pickle.HIGHEST_PROTOCOL)"
   ]
  },
  {
   "cell_type": "code",
   "execution_count": 27,
   "metadata": {},
   "outputs": [
    {
     "data": {
      "text/plain": [
       "(1024,)"
      ]
     },
     "execution_count": 27,
     "metadata": {},
     "output_type": "execute_result"
    }
   ],
   "source": [
    "huge_array[0].shape"
   ]
  },
  {
   "cell_type": "code",
   "execution_count": 34,
   "metadata": {},
   "outputs": [],
   "source": [
    "from sklearn.cluster import KMeans\n",
    "import pickle"
   ]
  },
  {
   "cell_type": "code",
   "execution_count": 29,
   "metadata": {},
   "outputs": [
    {
     "name": "stderr",
     "output_type": "stream",
     "text": [
      "c:\\Users\\User\\anaconda3\\envs\\gputorch\\lib\\site-packages\\sklearn\\cluster\\_kmeans.py:870: FutureWarning: The default value of `n_init` will change from 10 to 'auto' in 1.4. Set the value of `n_init` explicitly to suppress the warning\n",
      "  warnings.warn(\n"
     ]
    },
    {
     "data": {
      "text/html": [
       "<style>#sk-container-id-2 {color: black;background-color: white;}#sk-container-id-2 pre{padding: 0;}#sk-container-id-2 div.sk-toggleable {background-color: white;}#sk-container-id-2 label.sk-toggleable__label {cursor: pointer;display: block;width: 100%;margin-bottom: 0;padding: 0.3em;box-sizing: border-box;text-align: center;}#sk-container-id-2 label.sk-toggleable__label-arrow:before {content: \"▸\";float: left;margin-right: 0.25em;color: #696969;}#sk-container-id-2 label.sk-toggleable__label-arrow:hover:before {color: black;}#sk-container-id-2 div.sk-estimator:hover label.sk-toggleable__label-arrow:before {color: black;}#sk-container-id-2 div.sk-toggleable__content {max-height: 0;max-width: 0;overflow: hidden;text-align: left;background-color: #f0f8ff;}#sk-container-id-2 div.sk-toggleable__content pre {margin: 0.2em;color: black;border-radius: 0.25em;background-color: #f0f8ff;}#sk-container-id-2 input.sk-toggleable__control:checked~div.sk-toggleable__content {max-height: 200px;max-width: 100%;overflow: auto;}#sk-container-id-2 input.sk-toggleable__control:checked~label.sk-toggleable__label-arrow:before {content: \"▾\";}#sk-container-id-2 div.sk-estimator input.sk-toggleable__control:checked~label.sk-toggleable__label {background-color: #d4ebff;}#sk-container-id-2 div.sk-label input.sk-toggleable__control:checked~label.sk-toggleable__label {background-color: #d4ebff;}#sk-container-id-2 input.sk-hidden--visually {border: 0;clip: rect(1px 1px 1px 1px);clip: rect(1px, 1px, 1px, 1px);height: 1px;margin: -1px;overflow: hidden;padding: 0;position: absolute;width: 1px;}#sk-container-id-2 div.sk-estimator {font-family: monospace;background-color: #f0f8ff;border: 1px dotted black;border-radius: 0.25em;box-sizing: border-box;margin-bottom: 0.5em;}#sk-container-id-2 div.sk-estimator:hover {background-color: #d4ebff;}#sk-container-id-2 div.sk-parallel-item::after {content: \"\";width: 100%;border-bottom: 1px solid gray;flex-grow: 1;}#sk-container-id-2 div.sk-label:hover label.sk-toggleable__label {background-color: #d4ebff;}#sk-container-id-2 div.sk-serial::before {content: \"\";position: absolute;border-left: 1px solid gray;box-sizing: border-box;top: 0;bottom: 0;left: 50%;z-index: 0;}#sk-container-id-2 div.sk-serial {display: flex;flex-direction: column;align-items: center;background-color: white;padding-right: 0.2em;padding-left: 0.2em;position: relative;}#sk-container-id-2 div.sk-item {position: relative;z-index: 1;}#sk-container-id-2 div.sk-parallel {display: flex;align-items: stretch;justify-content: center;background-color: white;position: relative;}#sk-container-id-2 div.sk-item::before, #sk-container-id-2 div.sk-parallel-item::before {content: \"\";position: absolute;border-left: 1px solid gray;box-sizing: border-box;top: 0;bottom: 0;left: 50%;z-index: -1;}#sk-container-id-2 div.sk-parallel-item {display: flex;flex-direction: column;z-index: 1;position: relative;background-color: white;}#sk-container-id-2 div.sk-parallel-item:first-child::after {align-self: flex-end;width: 50%;}#sk-container-id-2 div.sk-parallel-item:last-child::after {align-self: flex-start;width: 50%;}#sk-container-id-2 div.sk-parallel-item:only-child::after {width: 0;}#sk-container-id-2 div.sk-dashed-wrapped {border: 1px dashed gray;margin: 0 0.4em 0.5em 0.4em;box-sizing: border-box;padding-bottom: 0.4em;background-color: white;}#sk-container-id-2 div.sk-label label {font-family: monospace;font-weight: bold;display: inline-block;line-height: 1.2em;}#sk-container-id-2 div.sk-label-container {text-align: center;}#sk-container-id-2 div.sk-container {/* jupyter's `normalize.less` sets `[hidden] { display: none; }` but bootstrap.min.css set `[hidden] { display: none !important; }` so we also need the `!important` here to be able to override the default hidden behavior on the sphinx rendered scikit-learn.org. See: https://github.com/scikit-learn/scikit-learn/issues/21755 */display: inline-block !important;position: relative;}#sk-container-id-2 div.sk-text-repr-fallback {display: none;}</style><div id=\"sk-container-id-2\" class=\"sk-top-container\"><div class=\"sk-text-repr-fallback\"><pre>KMeans(n_clusters=1000)</pre><b>In a Jupyter environment, please rerun this cell to show the HTML representation or trust the notebook. <br />On GitHub, the HTML representation is unable to render, please try loading this page with nbviewer.org.</b></div><div class=\"sk-container\" hidden><div class=\"sk-item\"><div class=\"sk-estimator sk-toggleable\"><input class=\"sk-toggleable__control sk-hidden--visually\" id=\"sk-estimator-id-2\" type=\"checkbox\" checked><label for=\"sk-estimator-id-2\" class=\"sk-toggleable__label sk-toggleable__label-arrow\">KMeans</label><div class=\"sk-toggleable__content\"><pre>KMeans(n_clusters=1000)</pre></div></div></div></div></div>"
      ],
      "text/plain": [
       "KMeans(n_clusters=1000)"
      ]
     },
     "execution_count": 29,
     "metadata": {},
     "output_type": "execute_result"
    }
   ],
   "source": [
    "num_cluster = 1000\n",
    "\n",
    "kmodel = KMeans(n_clusters=num_cluster)\n",
    "kmodel.fit(huge_array)\n"
   ]
  },
  {
   "cell_type": "code",
   "execution_count": 30,
   "metadata": {},
   "outputs": [
    {
     "data": {
      "text/plain": [
       "array([989, 998, 712, ..., 746, 794, 896])"
      ]
     },
     "execution_count": 30,
     "metadata": {},
     "output_type": "execute_result"
    }
   ],
   "source": [
    "kmodel.labels_"
   ]
  },
  {
   "cell_type": "code",
   "execution_count": 31,
   "metadata": {},
   "outputs": [],
   "source": [
    "def get_kvalue(x):\n",
    "    return kmodel.predict([x[0]])"
   ]
  },
  {
   "cell_type": "code",
   "execution_count": 33,
   "metadata": {},
   "outputs": [],
   "source": [
    "with open('kmodel.pickle', 'wb') as handle:\n",
    "    pickle.dump(kmodel, handle, protocol=pickle.HIGHEST_PROTOCOL)"
   ]
  },
  {
   "cell_type": "code",
   "execution_count": null,
   "metadata": {},
   "outputs": [],
   "source": []
  }
 ],
 "metadata": {
  "kernelspec": {
   "display_name": "Python 3",
   "language": "python",
   "name": "python3"
  },
  "language_info": {
   "codemirror_mode": {
    "name": "ipython",
    "version": 3
   },
   "file_extension": ".py",
   "mimetype": "text/x-python",
   "name": "python",
   "nbconvert_exporter": "python",
   "pygments_lexer": "ipython3",
   "version": "3.10.11"
  },
  "orig_nbformat": 4
 },
 "nbformat": 4,
 "nbformat_minor": 2
}
